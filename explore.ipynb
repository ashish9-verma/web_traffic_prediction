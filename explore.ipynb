{
 "cells": [
  {
   "cell_type": "code",
   "execution_count": 1,
   "metadata": {},
   "outputs": [
    {
     "name": "stderr",
     "output_type": "stream",
     "text": [
      "0it [00:00, ?it/s]\n",
      "TqdmDeprecationWarning: Please use `tqdm.pandas(...)` instead of `tqdm_pandas(tqdm(...))`.\n"
     ]
    }
   ],
   "source": [
    "import pandas as pd\n",
    "import numpy as np\n",
    "import matplotlib.pyplot as plt\n",
    "import re\n",
    "# import xgboost as xgb\n",
    "from tqdm import tqdm, tqdm_pandas\n",
    "tqdm_pandas(tqdm())\n",
    "import datetime"
   ]
  },
  {
   "cell_type": "code",
   "execution_count": 57,
   "metadata": {},
   "outputs": [
    {
     "name": "stderr",
     "output_type": "stream",
     "text": [
      "\n",
      "\n",
      "\n",
      "\n",
      "\n",
      "\u001b[A\u001b[A\u001b[A\u001b[A\u001b[A"
     ]
    }
   ],
   "source": [
    "train = pd.read_csv('./train_1.csv').fillna(0)\n",
    "key = pd.read_csv('./key_1.csv')"
   ]
  },
  {
   "cell_type": "code",
   "execution_count": 184,
   "metadata": {
    "collapsed": true
   },
   "outputs": [],
   "source": [
    "sub = pd.read_csv(\"./sample_submission_1.csv\")"
   ]
  },
  {
   "cell_type": "code",
   "execution_count": 3,
   "metadata": {
    "collapsed": true
   },
   "outputs": [],
   "source": [
    "for col in train.columns[1:]:\n",
    "    train[col] = pd.to_numeric(train[col],downcast='integer')"
   ]
  },
  {
   "cell_type": "code",
   "execution_count": 4,
   "metadata": {
    "collapsed": true
   },
   "outputs": [],
   "source": [
    "def get_median(row, last_n_days):\n",
    "    return pd.rolling_median(pd.Series(row), window = last_n_days)    "
   ]
  },
  {
   "cell_type": "code",
   "execution_count": 5,
   "metadata": {
    "collapsed": true
   },
   "outputs": [],
   "source": [
    "def get_mean(row, last_n_days):\n",
    "    return pd.rolling_mean(pd.Series(row), window = last_n_days)    "
   ]
  },
  {
   "cell_type": "code",
   "execution_count": 6,
   "metadata": {
    "collapsed": true
   },
   "outputs": [],
   "source": [
    "def get_long_stats(func_type, last_n_days, df, df_melt):\n",
    "\n",
    "    if func_type == \"median\":\n",
    "        rolling_stats = df.iloc[:, -60:].progress_apply(get_median, last_n_days = last_n_days, axis = 1)\n",
    "    elif func_type == \"mean\":\n",
    "        rolling_stats = df.iloc[:, -60:].progress_apply(get_mean, last_n_days = last_n_days, axis = 1)\n",
    "\n",
    "    rolling_stats_df = pd.concat([df.Page, rolling_stats.apply(pd.Series)], axis = 1)    \n",
    "    rolling_stats_df.columns = [\"Page\"] + list(df.columns[-60:])\n",
    "    \n",
    "    rolling_stats_melt = pd.melt(rolling_stats_df, id_vars=['Page'], var_name=\"date\", value_name=func_type + \"_\" + str(last_n_days))\n",
    "    \n",
    "    df_melt = pd.merge(df_melt, rolling_stats_melt, on = [\"Page\", \"date\"])     \n",
    "    return df_melt"
   ]
  },
  {
   "cell_type": "code",
   "execution_count": 10,
   "metadata": {},
   "outputs": [
    {
     "name": "stderr",
     "output_type": "stream",
     "text": [
      "  0%|          | 0/145063 [00:00<?, ?it/s]/Library/Python/2.7/site-packages/ipykernel_launcher.py:2: FutureWarning: pd.rolling_mean is deprecated for Series and will be removed in a future version, replace with \n",
      "\tSeries.rolling(window=7,center=False).mean()\n",
      "  \n",
      "145064it [01:01, 2365.82it/s]                            \n",
      "  0%|          | 0/145063 [00:00<?, ?it/s]/Library/Python/2.7/site-packages/ipykernel_launcher.py:2: FutureWarning: pd.rolling_mean is deprecated for Series and will be removed in a future version, replace with \n",
      "\tSeries.rolling(window=30,center=False).mean()\n",
      "  \n",
      "145064it [01:00, 2387.78it/s]                            \n",
      "  0%|          | 0/145063 [00:00<?, ?it/s]/Library/Python/2.7/site-packages/ipykernel_launcher.py:2: FutureWarning: pd.rolling_mean is deprecated for Series and will be removed in a future version, replace with \n",
      "\tSeries.rolling(window=60,center=False).mean()\n",
      "  \n",
      "145064it [00:59, 2435.19it/s]                            \n",
      "  0%|          | 0/145063 [00:00<?, ?it/s]/Library/Python/2.7/site-packages/ipykernel_launcher.py:2: FutureWarning: pd.rolling_median is deprecated for Series and will be removed in a future version, replace with \n",
      "\tSeries.rolling(window=7,center=False).median()\n",
      "  \n",
      "145064it [01:17, 1871.29it/s]                            \n",
      "  0%|          | 0/145063 [00:00<?, ?it/s]/Library/Python/2.7/site-packages/ipykernel_launcher.py:2: FutureWarning: pd.rolling_median is deprecated for Series and will be removed in a future version, replace with \n",
      "\tSeries.rolling(window=30,center=False).median()\n",
      "  \n",
      "145064it [01:17, 1875.42it/s]                            \n",
      "  0%|          | 0/145063 [00:00<?, ?it/s]/Library/Python/2.7/site-packages/ipykernel_launcher.py:2: FutureWarning: pd.rolling_median is deprecated for Series and will be removed in a future version, replace with \n",
      "\tSeries.rolling(window=60,center=False).median()\n",
      "  \n",
      "145064it [01:15, 1925.33it/s]                            \n"
     ]
    }
   ],
   "source": [
    "train_melt = pd.melt(pd.concat([train.Page, train.iloc[:, -60:]], axis = 1), id_vars=['Page'], var_name=\"date\", value_name=\"visits\")\n",
    "\n",
    "train_melt = get_long_stats(\"mean\", 7, train, train_melt)\n",
    "train_melt = get_long_stats(\"mean\", 30, train, train_melt)\n",
    "train_melt = get_long_stats(\"mean\", 60, train, train_melt)\n",
    "\n",
    "train_melt = get_long_stats(\"median\", 7, train, train_melt)\n",
    "train_melt = get_long_stats(\"median\", 30, train, train_melt)\n",
    "train_melt = get_long_stats(\"median\", 60, train, train_melt)"
   ]
  },
  {
   "cell_type": "code",
   "execution_count": null,
   "metadata": {
    "collapsed": true
   },
   "outputs": [],
   "source": [
    "def get_source(row):\n",
    "    return row.Page.split[\".\"][-1].split(\"_\")[-1]"
   ]
  },
  {
   "cell_type": "code",
   "execution_count": 8,
   "metadata": {
    "collapsed": true
   },
   "outputs": [],
   "source": [
    "def get_language(row):\n",
    "    try:\n",
    "        return row.Page.split(\".\")[0].split(\"_\")[-1]    \n",
    "    except:\n",
    "        return \"en\""
   ]
  },
  {
   "cell_type": "code",
   "execution_count": 30,
   "metadata": {
    "collapsed": true
   },
   "outputs": [],
   "source": [
    "def get_month(row):\n",
    "    return row.date.split(\"-\")[1]"
   ]
  },
  {
   "cell_type": "code",
   "execution_count": 32,
   "metadata": {
    "collapsed": true
   },
   "outputs": [],
   "source": [
    "def get_date(row):\n",
    "    return row.date.split(\"-\")[2]"
   ]
  },
  {
   "cell_type": "code",
   "execution_count": 34,
   "metadata": {
    "collapsed": true
   },
   "outputs": [],
   "source": [
    "def get_weekday(row):\n",
    "    return datetime.datetime.strptime(row.date, '%Y-%m-%d').date().weekday()"
   ]
  },
  {
   "cell_type": "code",
   "execution_count": 9,
   "metadata": {},
   "outputs": [
    {
     "name": "stderr",
     "output_type": "stream",
     "text": [
      "8703780it [06:46, 21402.26it/s]\n"
     ]
    }
   ],
   "source": [
    "train_melt[\"month\"] = train_melt.progress_apply(get_month, axis = 1)\n",
    "train_melt[\"date_num\"] = train_melt.progress_apply(get_date, axis = 1)\n",
    "train_melt[\"weekday\"] = train_melt.progress_apply(get_weekday, axis = 1)\n",
    "train_melt[\"language\"] = train_melt.progress_apply(get_language, axis = 1)"
   ]
  },
  {
   "cell_type": "code",
   "execution_count": 28,
   "metadata": {},
   "outputs": [
    {
     "name": "stdout",
     "output_type": "stream",
     "text": [
      "language\n",
      "en                                                                                                     1393140\n",
      "ja                                                                                                     1220940\n",
      "de                                                                                                     1074780\n",
      "fr                                                                                                     1058940\n",
      "zh                                                                                                     1029120\n",
      "ru                                                                                                      893220\n",
      "es                                                                                                      838140\n",
      "www                                                                                                     413280\n",
      "commons                                                                                                 293280\n",
      "1                                                                                                         9720\n",
      "vs                                                                                                        8700\n",
      "map                                                                                                       8100\n",
      "logo                                                                                                      7380\n",
      "2                                                                                                         6000\n",
      "Jr                                                                                                        5640\n",
      "F                                                                                                         5220\n",
      "J                                                                                                         4320\n",
      "(U                                                                                                        4260\n",
      "01                                                                                                        4260\n",
      "D                                                                                                         4080\n",
      "Logo                                                                                                      3780\n",
      "B                                                                                                         3360\n",
      "2016                                                                                                      3300\n",
      "3                                                                                                         3180\n",
      "M                                                                                                         3060\n",
      "A                                                                                                         2940\n",
      "S                                                                                                         2880\n",
      "Mr                                                                                                        2820\n",
      "(cropped)                                                                                                 2700\n",
      "Dr                                                                                                        2520\n",
      "                                                                                                        ...   \n",
      "areas                                                                                                       60\n",
      "File:MediaWiki-extensions-icon                                                                              60\n",
      "File:Me163                                                                                                  60\n",
      "File:Massarosaw                                                                                             60\n",
      "ani                                                                                                         60\n",
      "w                                                                                                           60\n",
      "anniversary                                                                                                 60\n",
      "antijuive                                                                                                   60\n",
      "File:Logo-bw-vertical1                                                                                      60\n",
      "File:LittleMix15                                                                                            60\n",
      "File:Lipopolysaccharide-O-Antigen-Prevents-Phagocytosis-of-Vibrio-anguillarum-by-Rainbow-Trout-pone         60\n",
      "File:Light-Bulb-Filament-engineerguy                                                                        60\n",
      "File:LayneSomsen                                                                                            60\n",
      "File:LandsteinerWS                                                                                          60\n",
      "article                                                                                                     60\n",
      "File:Howlsnow                                                                                               60\n",
      "File:Jonbonjovi                                                                                             60\n",
      "b                                                                                                           60\n",
      "File:Jamiedodger                                                                                            60\n",
      "background                                                                                                  60\n",
      "File:Izumo-taisha14bs4592                                                                                   60\n",
      "File:Israeli-type-H-plugs-and-socket                                                                        60\n",
      "ballance1                                                                                                   60\n",
      "banner2                                                                                                     60\n",
      "banting                                                                                                     60\n",
      "File:Imaghcacene                                                                                            60\n",
      "beach                                                                                                       60\n",
      "File:IWMLondonThumbnail                                                                                     60\n",
      "File:Hyewon-Jusa                                                                                            60\n",
      "up                                                                                                          60\n",
      "Name: Page, Length: 2121, dtype: int64\n"
     ]
    }
   ],
   "source": [
    "# def get_language_mean(row):\n",
    "lang_count = pd.Series(train_melt.groupby([\"language\"])[\"Page\"].count()).sort_values(axis = 0, ascending = False)\n",
    "print lang_count"
   ]
  },
  {
   "cell_type": "code",
   "execution_count": 2,
   "metadata": {
    "collapsed": true
   },
   "outputs": [],
   "source": [
    "train_melt = pd.read_csv(\"train_feats.csv\")"
   ]
  },
  {
   "cell_type": "code",
   "execution_count": 3,
   "metadata": {},
   "outputs": [
    {
     "data": {
      "text/html": [
       "<div>\n",
       "<style>\n",
       "    .dataframe thead tr:only-child th {\n",
       "        text-align: right;\n",
       "    }\n",
       "\n",
       "    .dataframe thead th {\n",
       "        text-align: left;\n",
       "    }\n",
       "\n",
       "    .dataframe tbody tr th {\n",
       "        vertical-align: top;\n",
       "    }\n",
       "</style>\n",
       "<table border=\"1\" class=\"dataframe\">\n",
       "  <thead>\n",
       "    <tr style=\"text-align: right;\">\n",
       "      <th></th>\n",
       "      <th>Page</th>\n",
       "      <th>date</th>\n",
       "      <th>visits</th>\n",
       "      <th>mean_7</th>\n",
       "      <th>mean_30</th>\n",
       "      <th>mean_60</th>\n",
       "      <th>median_7</th>\n",
       "      <th>median_30</th>\n",
       "      <th>median_60</th>\n",
       "      <th>month</th>\n",
       "      <th>date_num</th>\n",
       "      <th>weekday</th>\n",
       "      <th>language</th>\n",
       "    </tr>\n",
       "  </thead>\n",
       "  <tbody>\n",
       "    <tr>\n",
       "      <th>0</th>\n",
       "      <td>2NE1_zh.wikipedia.org_all-access_spider</td>\n",
       "      <td>2016-11-02</td>\n",
       "      <td>18</td>\n",
       "      <td>NaN</td>\n",
       "      <td>NaN</td>\n",
       "      <td>NaN</td>\n",
       "      <td>NaN</td>\n",
       "      <td>NaN</td>\n",
       "      <td>NaN</td>\n",
       "      <td>11</td>\n",
       "      <td>2</td>\n",
       "      <td>2</td>\n",
       "      <td>zh</td>\n",
       "    </tr>\n",
       "    <tr>\n",
       "      <th>1</th>\n",
       "      <td>2PM_zh.wikipedia.org_all-access_spider</td>\n",
       "      <td>2016-11-02</td>\n",
       "      <td>11</td>\n",
       "      <td>NaN</td>\n",
       "      <td>NaN</td>\n",
       "      <td>NaN</td>\n",
       "      <td>NaN</td>\n",
       "      <td>NaN</td>\n",
       "      <td>NaN</td>\n",
       "      <td>11</td>\n",
       "      <td>2</td>\n",
       "      <td>2</td>\n",
       "      <td>zh</td>\n",
       "    </tr>\n",
       "    <tr>\n",
       "      <th>2</th>\n",
       "      <td>3C_zh.wikipedia.org_all-access_spider</td>\n",
       "      <td>2016-11-02</td>\n",
       "      <td>3</td>\n",
       "      <td>NaN</td>\n",
       "      <td>NaN</td>\n",
       "      <td>NaN</td>\n",
       "      <td>NaN</td>\n",
       "      <td>NaN</td>\n",
       "      <td>NaN</td>\n",
       "      <td>11</td>\n",
       "      <td>2</td>\n",
       "      <td>2</td>\n",
       "      <td>zh</td>\n",
       "    </tr>\n",
       "    <tr>\n",
       "      <th>3</th>\n",
       "      <td>4minute_zh.wikipedia.org_all-access_spider</td>\n",
       "      <td>2016-11-02</td>\n",
       "      <td>12</td>\n",
       "      <td>NaN</td>\n",
       "      <td>NaN</td>\n",
       "      <td>NaN</td>\n",
       "      <td>NaN</td>\n",
       "      <td>NaN</td>\n",
       "      <td>NaN</td>\n",
       "      <td>11</td>\n",
       "      <td>2</td>\n",
       "      <td>2</td>\n",
       "      <td>zh</td>\n",
       "    </tr>\n",
       "    <tr>\n",
       "      <th>4</th>\n",
       "      <td>52_Hz_I_Love_You_zh.wikipedia.org_all-access_s...</td>\n",
       "      <td>2016-11-02</td>\n",
       "      <td>5</td>\n",
       "      <td>NaN</td>\n",
       "      <td>NaN</td>\n",
       "      <td>NaN</td>\n",
       "      <td>NaN</td>\n",
       "      <td>NaN</td>\n",
       "      <td>NaN</td>\n",
       "      <td>11</td>\n",
       "      <td>2</td>\n",
       "      <td>2</td>\n",
       "      <td>Hz</td>\n",
       "    </tr>\n",
       "  </tbody>\n",
       "</table>\n",
       "</div>"
      ],
      "text/plain": [
       "                                                Page        date  visits  \\\n",
       "0            2NE1_zh.wikipedia.org_all-access_spider  2016-11-02      18   \n",
       "1             2PM_zh.wikipedia.org_all-access_spider  2016-11-02      11   \n",
       "2              3C_zh.wikipedia.org_all-access_spider  2016-11-02       3   \n",
       "3         4minute_zh.wikipedia.org_all-access_spider  2016-11-02      12   \n",
       "4  52_Hz_I_Love_You_zh.wikipedia.org_all-access_s...  2016-11-02       5   \n",
       "\n",
       "   mean_7  mean_30  mean_60  median_7  median_30  median_60  month  date_num  \\\n",
       "0     NaN      NaN      NaN       NaN        NaN        NaN     11         2   \n",
       "1     NaN      NaN      NaN       NaN        NaN        NaN     11         2   \n",
       "2     NaN      NaN      NaN       NaN        NaN        NaN     11         2   \n",
       "3     NaN      NaN      NaN       NaN        NaN        NaN     11         2   \n",
       "4     NaN      NaN      NaN       NaN        NaN        NaN     11         2   \n",
       "\n",
       "   weekday language  \n",
       "0        2       zh  \n",
       "1        2       zh  \n",
       "2        2       zh  \n",
       "3        2       zh  \n",
       "4        2       Hz  "
      ]
     },
     "execution_count": 3,
     "metadata": {},
     "output_type": "execute_result"
    }
   ],
   "source": [
    "train_melt.head()"
   ]
  },
  {
   "cell_type": "code",
   "execution_count": 62,
   "metadata": {
    "collapsed": true
   },
   "outputs": [],
   "source": [
    "train_melt.to_csv(\"train_feats.csv\", index = False)"
   ]
  },
  {
   "cell_type": "code",
   "execution_count": 86,
   "metadata": {
    "collapsed": true
   },
   "outputs": [],
   "source": [
    "key[\"trunc_page\"] = key.apply(lambda x: x[\"Page\"][:-11], axis = 1)\n",
    "key.to_csv(\"key_trunc.csv\", index = False)"
   ]
  },
  {
   "cell_type": "code",
   "execution_count": null,
   "metadata": {
    "collapsed": true
   },
   "outputs": [],
   "source": [
    "# train_melt = pd.read_csv(\"train_feats.csv\")\n",
    "key = pd.read_csv(\"key_trunc.csv\")\n",
    "\n",
    "train_melt = pd.merge(train_melt, key, left_on=\"Page\", right_on=\"trunc_page\", how=\"inner\")\n",
    "train_melt.drop(\"Page_x\", inplace=True, axis = 1)\n",
    "train_melt.drop(\"Page_y\", inplace=True, axis = 1)\n",
    "\n",
    "train_melt.to_csv(\"train_merged.csv\", index = False)"
   ]
  },
  {
   "cell_type": "code",
   "execution_count": 93,
   "metadata": {
    "collapsed": true
   },
   "outputs": [],
   "source": [
    "train_merged_filtered = train_merged[[\"Id\", \"median_60_days\"]]"
   ]
  },
  {
   "cell_type": "code",
   "execution_count": 111,
   "metadata": {
    "collapsed": true
   },
   "outputs": [],
   "source": [
    "sub = pd.merge(sub, train_merged_filtered, on = \"Id\")\n",
    "sub.drop(\"Visits\", inplace=True, axis = 1)\n",
    "sub.columns = [\"Id\", \"Visits\"]"
   ]
  },
  {
   "cell_type": "code",
   "execution_count": 112,
   "metadata": {
    "collapsed": true
   },
   "outputs": [],
   "source": [
    "sub.to_csv(\"median_60_days.csv\", index = False)"
   ]
  },
  {
   "cell_type": "code",
   "execution_count": null,
   "metadata": {
    "collapsed": true
   },
   "outputs": [],
   "source": [
    "def run_xgb(x_train, x_test, x_label):\n",
    "\n",
    "    # x_train = pd.concat([pos_train, neg_train]) #Concat positive and negative\n",
    "    # y_train = (np.zeros(len(pos_train)) + 1).tolist() + np.zeros(len(neg_train)).tolist() #Putting in 1 and 0\n",
    "\n",
    "    # x_train, x_valid, y_train, y_valid = train_test_split(x_train, y_train, test_size=0.2, random_state=4242)\n",
    "\n",
    "    # Set our parameters for xgboost\n",
    "    params = {}\n",
    "    params['objective'] = 'binary:logistic'\n",
    "    params['eval_metric'] = 'logloss'\n",
    "    params['eta'] = 0.05\n",
    "    params['max_depth'] = 6\n",
    "    params['silent'] = 1\n",
    "\n",
    "    d_train = xgb.DMatrix(x_train, label=x_label)\n",
    "    d_test = xgb.DMatrix(x_test)\n",
    "\n",
    "    watchlist = [(d_train, 'train')]\n",
    "\n",
    "    bst = xgb.train(params, d_train, 100, watchlist, early_stopping_rounds=50, verbose_eval=50)\n",
    "\n",
    "    p_test = bst.predict(d_test)\n",
    "\n",
    "    # xgb.plot_importance(bst)\n",
    "    # pyplot.show()\n",
    "\n",
    "    return p_test"
   ]
  }
 ],
 "metadata": {
  "kernelspec": {
   "display_name": "Python 2",
   "language": "python",
   "name": "python2"
  },
  "language_info": {
   "codemirror_mode": {
    "name": "ipython",
    "version": 2
   },
   "file_extension": ".py",
   "mimetype": "text/x-python",
   "name": "python",
   "nbconvert_exporter": "python",
   "pygments_lexer": "ipython2",
   "version": "2.7.10"
  }
 },
 "nbformat": 4,
 "nbformat_minor": 2
}
